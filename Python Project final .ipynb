{
 "cells": [
  {
   "cell_type": "code",
   "execution_count": 2,
   "id": "df078033-9b39-44f4-810c-3c98b10ec962",
   "metadata": {},
   "outputs": [
    {
     "name": "stdout",
     "output_type": "stream",
     "text": [
      "\n",
      "Welcome to the Typing Speed Test!\n",
      "You will be given a random text to type.\n",
      "Type as quickly and accurately as you can.\n"
     ]
    },
    {
     "name": "stdin",
     "output_type": "stream",
     "text": [
      "Press Enter to start...\n",
      "  \n"
     ]
    },
    {
     "name": "stdout",
     "output_type": "stream",
     "text": [
      "\n",
      "Type the following text:\n",
      "The quick brown fox jumps over the lazy dog.\n",
      "\n",
      "Start typing below:\n"
     ]
    },
    {
     "name": "stdin",
     "output_type": "stream",
     "text": [
      "\n",
      "Your input:  The quick brown fox jumps over the lazy dog.\n"
     ]
    },
    {
     "name": "stderr",
     "output_type": "stream",
     "text": [
      "C:\\Users\\aishw\\AppData\\Local\\Temp\\ipykernel_14028\\2232938343.py:58: FutureWarning: The behavior of DataFrame concatenation with empty or all-NA entries is deprecated. In a future version, this will no longer exclude empty or all-NA columns when determining the result dtypes. To retain the old behavior, exclude the relevant entries before the concat operation.\n",
      "  results_df = pd.concat([results_df, pd.DataFrame([new_data])], ignore_index=True)\n"
     ]
    },
    {
     "name": "stdout",
     "output_type": "stream",
     "text": [
      "\n",
      "--- Results ---\n",
      "Time Taken: 44.26 seconds\n",
      "Words Per Minute (WPM): 12.20\n",
      "Accuracy: 100.00%\n",
      "Correct Words: 9/9\n"
     ]
    },
    {
     "name": "stdin",
     "output_type": "stream",
     "text": [
      "\n",
      "Do you want to try again? (yes/no):  yes\n"
     ]
    },
    {
     "name": "stdout",
     "output_type": "stream",
     "text": [
      "\n",
      "Welcome to the Typing Speed Test!\n",
      "You will be given a random text to type.\n",
      "Type as quickly and accurately as you can.\n"
     ]
    },
    {
     "name": "stdin",
     "output_type": "stream",
     "text": [
      "Press Enter to start...\n",
      " \n"
     ]
    },
    {
     "name": "stdout",
     "output_type": "stream",
     "text": [
      "\n",
      "Type the following text:\n",
      "Python is a versatile programming language.\n",
      "\n",
      "Start typing below:\n"
     ]
    },
    {
     "name": "stdin",
     "output_type": "stream",
     "text": [
      "\n",
      "Your input:  python is a versatile programming language.\n"
     ]
    },
    {
     "name": "stdout",
     "output_type": "stream",
     "text": [
      "\n",
      "--- Results ---\n",
      "Time Taken: 29.82 seconds\n",
      "Words Per Minute (WPM): 12.07\n",
      "Accuracy: 83.33%\n",
      "Correct Words: 5/6\n"
     ]
    },
    {
     "name": "stdin",
     "output_type": "stream",
     "text": [
      "\n",
      "Do you want to try again? (yes/no):  no\n"
     ]
    },
    {
     "name": "stdout",
     "output_type": "stream",
     "text": [
      "\n",
      "--- Summary of All Sessions ---\n",
      "  Session  Time Taken (s)    WPM  Accuracy (%)\n",
      "0       1           44.26  12.20        100.00\n",
      "1       2           29.82  12.07         83.33\n"
     ]
    }
   ],
   "source": [
    "import time\n",
    "import random\n",
    "import numpy as np\n",
    "import pandas as pd\n",
    "\n",
    "# Sample texts for the typing test\n",
    "texts = [\n",
    "    \"The quick brown fox jumps over the lazy dog.\",\n",
    "    \"Python is a versatile programming language.\",\n",
    "    \"Artificial intelligence is the future of technology.\",\n",
    "    \"Typing tests are a great way to improve your typing speed.\",\n",
    "    \"Consistency is the key to success in any field.\"\n",
    "]\n",
    "\n",
    "# DataFrame to store results\n",
    "columns = ['Session', 'Time Taken (s)', 'WPM', 'Accuracy (%)']\n",
    "results_df = pd.DataFrame(columns=columns)\n",
    "\n",
    "def typing_test(session_number):\n",
    "    print(\"\\nWelcome to the Typing Speed Test!\")\n",
    "    print(\"You will be given a random text to type.\")\n",
    "    print(\"Type as quickly and accurately as you can.\")\n",
    "    input(\"Press Enter to start...\\n\")\n",
    "\n",
    "    # Select a random text\n",
    "    test_text = random.choice(texts)\n",
    "    print(\"\\nType the following text:\")\n",
    "    print(test_text)\n",
    "    print(\"\\nStart typing below:\")\n",
    "\n",
    "    # Start the timer\n",
    "    start_time = time.time()\n",
    "\n",
    "    # Capture user input\n",
    "    user_input = input(\"\\nYour input: \")\n",
    "\n",
    "    # Stop the timer\n",
    "    end_time = time.time()\n",
    "\n",
    "    # Calculate results\n",
    "    time_taken = end_time - start_time\n",
    "    words_in_test = len(test_text.split())\n",
    "    words_typed = len(user_input.split())\n",
    "    correct_words = np.sum(\n",
    "        np.array(test_text.split()) == np.array(user_input.split()[:words_in_test])\n",
    "    )\n",
    "    wpm = (words_typed / time_taken) * 60  # Words per minute\n",
    "    accuracy = (correct_words / words_in_test) * 100\n",
    "\n",
    "    # Store results in DataFrame\n",
    "    global results_df\n",
    "    new_data = {\n",
    "        'Session': session_number,\n",
    "        'Time Taken (s)': round(time_taken, 2),\n",
    "        'WPM': round(wpm, 2),\n",
    "        'Accuracy (%)': round(accuracy, 2)\n",
    "    }\n",
    "    results_df = pd.concat([results_df, pd.DataFrame([new_data])], ignore_index=True)\n",
    "\n",
    "    # Display results\n",
    "    print(\"\\n--- Results ---\")\n",
    "    print(f\"Time Taken: {time_taken:.2f} seconds\")\n",
    "    print(f\"Words Per Minute (WPM): {wpm:.2f}\")\n",
    "    print(f\"Accuracy: {accuracy:.2f}%\")\n",
    "    print(f\"Correct Words: {correct_words}/{words_in_test}\")\n",
    "\n",
    "# Main function to run multiple sessions\n",
    "def main():\n",
    "    session_number = 1\n",
    "    while True:\n",
    "        typing_test(session_number)\n",
    "        session_number += 1\n",
    "\n",
    "        # Ask if the user wants to retry\n",
    "        retry = input(\"\\nDo you want to try again? (yes/no): \").strip().lower()\n",
    "        if retry != 'yes':\n",
    "            break\n",
    "\n",
    "    # Display all results\n",
    "    print(\"\\n--- Summary of All Sessions ---\")\n",
    "    print(results_df)\n",
    "\n",
    "# Run the main function\n",
    "main()"
   ]
  },
  {
   "cell_type": "code",
   "execution_count": null,
   "id": "683805dd-980f-45b8-9c67-e3aeab505662",
   "metadata": {},
   "outputs": [],
   "source": []
  }
 ],
 "metadata": {
  "kernelspec": {
   "display_name": "Python 3 (ipykernel)",
   "language": "python",
   "name": "python3"
  },
  "language_info": {
   "codemirror_mode": {
    "name": "ipython",
    "version": 3
   },
   "file_extension": ".py",
   "mimetype": "text/x-python",
   "name": "python",
   "nbconvert_exporter": "python",
   "pygments_lexer": "ipython3",
   "version": "3.12.4"
  }
 },
 "nbformat": 4,
 "nbformat_minor": 5
}
